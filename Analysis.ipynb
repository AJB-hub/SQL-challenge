{
 "cells": [
  {
   "cell_type": "code",
   "execution_count": 55,
   "id": "964ef74d",
   "metadata": {},
   "outputs": [],
   "source": [
    "import pandas as pd\n",
    "import seaborn as sn\n",
    "import matplotlib.pyplot as plt\n",
    "from sqlalchemy import create_engine\n",
    "from config import *"
   ]
  },
  {
   "cell_type": "code",
   "execution_count": 16,
   "id": "8535a635",
   "metadata": {},
   "outputs": [],
   "source": [
    "engine = create_engine(f'postgresql://{user}:{password}@{host}/{database}')\n",
    "connection = engine.connect()"
   ]
  },
  {
   "cell_type": "code",
   "execution_count": 17,
   "id": "03bfd9c5",
   "metadata": {},
   "outputs": [],
   "source": [
    "#Extract all data from tables and store in dataframes identified by table dictionary\n",
    "tables = ['dept','dept_emp','dept_manager','employees','salaries','titles']\n",
    "dataframes = {}\n",
    "for table in tables :\n",
    "    queryString = f'SELECT * FROM {table}'\n",
    "    data = pd.read_sql(queryString, connection)\n",
    "    dataframes[table] = data"
   ]
  },
  {
   "cell_type": "code",
   "execution_count": 59,
   "id": "5a201e6e",
   "metadata": {},
   "outputs": [
    {
     "data": {
      "image/png": "[encoded data removed]",
      "text/plain": [
       "<Figure size 432x288 with 1 Axes>"
      ]
     },
     "metadata": {
      "needs_background": "light"
     },
     "output_type": "display_data"
    }
   ],
   "source": [
    "#Histogram of salaries across the company in 10 bins\n",
    "sn.histplot(dataframes['salaries']['salary'],bins=10)\n",
    "plt.savefig('./visualization/hist.png')"
   ]
  },
  {
   "cell_type": "code",
   "execution_count": 22,
   "id": "3a7c941d",
   "metadata": {},
   "outputs": [],
   "source": [
    "#Merge dataframes so all relevant data is in the same frame\n",
    "bar_df = dataframes['salaries'].merge(dataframes['employees'],on='emp_no')\n",
    "bar_df = bar_df.merge(dataframes['titles'],right_on='title_id',left_on='emp_title_id')"
   ]
  },
  {
   "cell_type": "code",
   "execution_count": 56,
   "id": "6897fc6a",
   "metadata": {},
   "outputs": [
    {
     "data": {
      "image/png": "[encoded data removed]",
      "text/plain": [
       "<Figure size 432x288 with 1 Axes>"
      ]
     },
     "metadata": {
      "needs_background": "light"
     },
     "output_type": "display_data"
    }
   ],
   "source": [
    "#group by title and find the average salary, plot the result\n",
    "grp_df = bar_df.groupby('title')['salary'].mean().reset_index()\n",
    "sn.barplot(y=grp_df['title'],x=grp_df['salary'])\n",
    "plt.savefig('./visualization/bar.png')"
   ]
  },
  {
   "cell_type": "code",
   "execution_count": 48,
   "id": "7307e060",
   "metadata": {},
   "outputs": [
    {
     "data": {
      "text/html": [
       "<div>\n",
       "<style scoped>\n",
       "    .dataframe tbody tr th:only-of-type {\n",
       "        vertical-align: middle;\n",
       "    }\n",
       "\n",
       "    .dataframe tbody tr th {\n",
       "        vertical-align: top;\n",
       "    }\n",
       "\n",
       "    .dataframe thead th {\n",
       "        text-align: right;\n",
       "    }\n",
       "</style>\n",
       "<table border=\"1\" class=\"dataframe\">\n",
       "  <thead>\n",
       "    <tr style=\"text-align: right;\">\n",
       "      <th></th>\n",
       "      <th>emp_no</th>\n",
       "      <th>emp_title_id</th>\n",
       "      <th>birth_date</th>\n",
       "      <th>first_name</th>\n",
       "      <th>last_name</th>\n",
       "      <th>sex</th>\n",
       "      <th>hire_date</th>\n",
       "    </tr>\n",
       "  </thead>\n",
       "  <tbody>\n",
       "    <tr>\n",
       "      <th>168736</th>\n",
       "      <td>499942</td>\n",
       "      <td>e0004</td>\n",
       "      <td>1/10/1963</td>\n",
       "      <td>April</td>\n",
       "      <td>Foolsday</td>\n",
       "      <td>F</td>\n",
       "      <td>2/10/1997</td>\n",
       "    </tr>\n",
       "  </tbody>\n",
       "</table>\n",
       "</div>"
      ],
      "text/plain": [
       "        emp_no emp_title_id birth_date first_name last_name sex  hire_date\n",
       "168736  499942        e0004  1/10/1963      April  Foolsday   F  2/10/1997"
      ]
     },
     "execution_count": 48,
     "metadata": {},
     "output_type": "execute_result"
    }
   ],
   "source": [
    "#Epilogue\n",
    "dataframes['employees'][emp_df['emp_no'] == 499942]"
   ]
  },
  {
   "cell_type": "code",
   "execution_count": null,
   "id": "fab3f3b0",
   "metadata": {},
   "outputs": [],
   "source": []
  }
 ],
 "metadata": {
  "kernelspec": {
   "display_name": "PythonData",
   "language": "python",
   "name": "pythondata"
  },
  "language_info": {
   "codemirror_mode": {
    "name": "ipython",
    "version": 3
   },
   "file_extension": ".py",
   "mimetype": "text/x-python",
   "name": "python",
   "nbconvert_exporter": "python",
   "pygments_lexer": "ipython3",
   "version": "3.6.10"
  }
 },
 "nbformat": 4,
 "nbformat_minor": 5
}
